{
 "cells": [
  {
   "cell_type": "markdown",
   "metadata": {},
   "source": [
    "## 3. 조건문"
   ]
  },
  {
   "cell_type": "markdown",
   "metadata": {},
   "source": [
    "### 3.2.1 비교 연산자\n",
    "- `A == B`: A와 B가 같다.  \n",
    "- `A != B`: A와 B가 같지 않다. \n",
    "- `A >= B`: A가 B 이상\n",
    "- `A <= B`: A가 B 이하\n",
    "부등호 먼저 나오고 등호 나옴"
   ]
  },
  {
   "cell_type": "code",
   "execution_count": 2,
   "metadata": {},
   "outputs": [
    {
     "data": {
      "text/plain": [
       "False"
      ]
     },
     "execution_count": 2,
     "metadata": {},
     "output_type": "execute_result"
    }
   ],
   "source": [
    "A = 10\n",
    "B = 20\n",
    "A == B"
   ]
  },
  {
   "cell_type": "code",
   "execution_count": 3,
   "metadata": {},
   "outputs": [
    {
     "data": {
      "text/plain": [
       "True"
      ]
     },
     "execution_count": 3,
     "metadata": {},
     "output_type": "execute_result"
    }
   ],
   "source": [
    "A = 10\n",
    "B = 20\n",
    "A != B"
   ]
  },
  {
   "cell_type": "markdown",
   "metadata": {},
   "source": [
    "### 3.2.2 논리 연산자 \n",
    "- `not 조건`: 조건이 참이면 거짓, 조건이 거짓이면 참으로 해서 논리 값을 반대로 변경한다.  "
   ]
  },
  {
   "cell_type": "code",
   "execution_count": 6,
   "metadata": {},
   "outputs": [
    {
     "data": {
      "text/plain": [
       "True"
      ]
     },
     "execution_count": 6,
     "metadata": {},
     "output_type": "execute_result"
    }
   ],
   "source": [
    "x=25\n",
    "not x%2 == 0"
   ]
  },
  {
   "cell_type": "markdown",
   "metadata": {},
   "source": [
    "`x%2 == 0`이 `False`여서 True로 반환된다.  "
   ]
  },
  {
   "cell_type": "markdown",
   "metadata": {},
   "source": [
    "### 3.3.1 if~ 구문 기본 구조"
   ]
  },
  {
   "cell_type": "markdown",
   "metadata": {},
   "source": [
    "__65세 이상 입장 무료__"
   ]
  },
  {
   "cell_type": "code",
   "execution_count": 7,
   "metadata": {},
   "outputs": [
    {
     "name": "stdout",
     "output_type": "stream",
     "text": [
      "티켓은 무료입니다.\n"
     ]
    }
   ],
   "source": [
    "x=int(input(\"당신의 나이는\"))\n",
    "if x> 65:\n",
    "    print(\"티켓은 무료입니다.\")"
   ]
  },
  {
   "cell_type": "markdown",
   "metadata": {},
   "source": [
    "### 3.3.2 배수 판별하기 "
   ]
  },
  {
   "cell_type": "markdown",
   "metadata": {},
   "source": [
    "__3 또는 4의 배수 판별하기__"
   ]
  },
  {
   "cell_type": "code",
   "execution_count": 4,
   "metadata": {},
   "outputs": [
    {
     "name": "stdout",
     "output_type": "stream",
     "text": [
      "당신이 입력한 76는 4의 배수입니다.\n"
     ]
    }
   ],
   "source": [
    "num= int(input(\"양의 정수를 입력하시오\"))\n",
    "result = \"3의 배수도 4의 배수도 아닙니다.\"  \n",
    "\n",
    "if num%3==0:\n",
    "  result= \"3의 배수입니다.\"\n",
    "if num%4==0:\n",
    "  result= \"4의 배수입니다.\"\n",
    "if num%4 == 0 and num%3 == 0:\n",
    "  result = \"3의 배수이자 4의 배수입니다.\"\n",
    "\n",
    "print(\"당신이 입력한 %d는 %s\"% (num, result))"
   ]
  },
  {
   "cell_type": "markdown",
   "metadata": {},
   "source": [
    "__월을 입력받아 계절을 판별하라__"
   ]
  },
  {
   "cell_type": "code",
   "execution_count": 10,
   "metadata": {},
   "outputs": [
    {
     "name": "stdout",
     "output_type": "stream",
     "text": [
      "가을입니다.\n"
     ]
    }
   ],
   "source": [
    "month = int(input(\"지금 생각나는 월은?\"))\n",
    "if month ==12 or  month ==1 or month ==2:\n",
    "  print(\"겨울입니다.\")\n",
    "if month ==3 or month ==4 or  month == 5 :\n",
    "  print(\"봄입니다.\")\n",
    "if month ==6 or  month ==7 or  month ==8 :\n",
    "  print(\"여름입니다.\")\n",
    "if month ==9 or 10 or 11 :\n",
    "  print(\"가을입니다.\")"
   ]
  },
  {
   "cell_type": "markdown",
   "metadata": {},
   "source": [
    "__주민번호 뒷자리로 여자인지 남자인지 판단하라__\n",
    "주민번호 첫째 자리가 1이거나 3이면 남성이며 2이거나 4이면 여성이다.  "
   ]
  },
  {
   "cell_type": "code",
   "execution_count": 56,
   "metadata": {},
   "outputs": [
    {
     "name": "stdout",
     "output_type": "stream",
     "text": [
      "당신은 여성입니다.\n"
     ]
    }
   ],
   "source": [
    "id=(input(\"주민번호 뒷자리를 입력하시오\"))\n",
    "\n",
    "if int(id[0]) ==1 or 3:\n",
    "  sex= \"남성\"\n",
    "if int(id[0])== 2 or 4:\n",
    "  sex= \"여성\"\n",
    "\n",
    "print(\"당신은 %s입니다.\"% sex)"
   ]
  },
  {
   "cell_type": "markdown",
   "metadata": {},
   "source": [
    "이런식으로 하면 다 여성 나옴 `elif`를 써줘야함"
   ]
  },
  {
   "cell_type": "code",
   "execution_count": 57,
   "metadata": {},
   "outputs": [
    {
     "name": "stdout",
     "output_type": "stream",
     "text": [
      "당신은 남성입니다.\n"
     ]
    }
   ],
   "source": [
    "id=(input(\"주민번호 뒷자리를 입력하시오\"))\n",
    "\n",
    "if int(id[0]) ==1 or int(id[0]) == 3:\n",
    "  sex= \"남성\"\n",
    "elif int(id[0])== 2 or int(id[0]) == 4:\n",
    "  sex= \"여성\"\n",
    "\n",
    "print(\"당신은 %s입니다.\"% sex)"
   ]
  },
  {
   "cell_type": "markdown",
   "metadata": {},
   "source": [
    "`elif`를 안쓰고 `if`만"
   ]
  },
  {
   "cell_type": "code",
   "execution_count": 52,
   "metadata": {},
   "outputs": [
    {
     "name": "stdout",
     "output_type": "stream",
     "text": [
      "당신은 여성입니다.\n"
     ]
    }
   ],
   "source": [
    "id=(input(\"주민번호 뒷자리를 입력하시오\"))\n",
    "x= int(id[0])\n",
    "if x ==1 or x == 3:\n",
    "  print(\"당신은 남성입니다.\")\n",
    "elif x == 2 or x==4 :\n",
    "  sex= \"여성\"\n",
    "  print(\"당신은 여성입니다.\")\n",
    "else:\n",
    "  print(\"잘못 입력하셨습니다.\")\n"
   ]
  },
  {
   "cell_type": "markdown",
   "metadata": {},
   "source": [
    "### 3.4 if ~else\n",
    "if ~else 구문은 짝수/홀수 처럼 조건이 2개있을 때만 사용할 수 있다.  "
   ]
  },
  {
   "cell_type": "markdown",
   "metadata": {},
   "source": [
    "__영어 알파벳을 입력하여 자음인지 모음인지 판단하여라__"
   ]
  },
  {
   "cell_type": "code",
   "execution_count": 53,
   "metadata": {},
   "outputs": [
    {
     "ename": "NameError",
     "evalue": "name 'a' is not defined",
     "output_type": "error",
     "traceback": [
      "\u001b[1;31m---------------------------------------------------------------------------\u001b[0m",
      "\u001b[1;31mNameError\u001b[0m                                 Traceback (most recent call last)",
      "\u001b[1;32m~\\AppData\\Local\\Temp/ipykernel_12216/3933274029.py\u001b[0m in \u001b[0;36m<module>\u001b[1;34m\u001b[0m\n\u001b[0;32m      1\u001b[0m \u001b[0malphabet\u001b[0m \u001b[1;33m=\u001b[0m \u001b[0minput\u001b[0m\u001b[1;33m(\u001b[0m\u001b[1;34m\"알파벳을 입력하시오\"\u001b[0m\u001b[1;33m)\u001b[0m\u001b[1;33m\u001b[0m\u001b[1;33m\u001b[0m\u001b[0m\n\u001b[1;32m----> 2\u001b[1;33m \u001b[1;32mif\u001b[0m \u001b[0malphabet\u001b[0m \u001b[1;33m==\u001b[0m \u001b[0ma\u001b[0m \u001b[1;32mor\u001b[0m \u001b[0mi\u001b[0m \u001b[1;32mor\u001b[0m \u001b[0me\u001b[0m \u001b[1;32mor\u001b[0m \u001b[0mu\u001b[0m \u001b[1;32mor\u001b[0m \u001b[0mo\u001b[0m\u001b[1;33m:\u001b[0m\u001b[1;33m\u001b[0m\u001b[1;33m\u001b[0m\u001b[0m\n\u001b[0m\u001b[0;32m      3\u001b[0m   \u001b[0mprint\u001b[0m\u001b[1;33m(\u001b[0m\u001b[1;34m\"%s는 모음입니다.\"\u001b[0m\u001b[1;33m%\u001b[0m \u001b[0malphabet\u001b[0m\u001b[1;33m)\u001b[0m\u001b[1;33m\u001b[0m\u001b[1;33m\u001b[0m\u001b[0m\n\u001b[0;32m      4\u001b[0m \u001b[1;32melse\u001b[0m\u001b[1;33m:\u001b[0m\u001b[1;33m\u001b[0m\u001b[1;33m\u001b[0m\u001b[0m\n\u001b[0;32m      5\u001b[0m   \u001b[0mprint\u001b[0m\u001b[1;33m(\u001b[0m\u001b[1;34m\"%s는 자음입니다\"\u001b[0m\u001b[1;33m%\u001b[0m \u001b[0malphabet\u001b[0m \u001b[1;33m)\u001b[0m\u001b[1;33m\u001b[0m\u001b[1;33m\u001b[0m\u001b[0m\n",
      "\u001b[1;31mNameError\u001b[0m: name 'a' is not defined"
     ]
    }
   ],
   "source": [
    "alphabet = input(\"알파벳을 입력하시오\")\n",
    "if alphabet == a or i or e or u or o:\n",
    "  print(\"%s는 모음입니다.\"% alphabet)\n",
    "else:\n",
    "  print(\"%s는 자음입니다\"% alphabet )"
   ]
  },
  {
   "cell_type": "markdown",
   "metadata": {},
   "source": [
    "스트링에 따옴표 처리 해줄것"
   ]
  },
  {
   "cell_type": "code",
   "execution_count": null,
   "metadata": {},
   "outputs": [
    {
     "name": "stdout",
     "output_type": "stream",
     "text": [
      "d는 모음입니다.\n"
     ]
    }
   ],
   "source": [
    "alphabet = input(\"알파벳을 입력하시오\")\n",
    "if alphabet == \"a\" or \"i\" or \"e\" or \"u\" or \"o\":\n",
    "  print(\"%s는 모음입니다.\"% alphabet)\n",
    "else:\n",
    "  print(\"%s는 자음입니다\"% alphabet )"
   ]
  },
  {
   "cell_type": "code",
   "execution_count": null,
   "metadata": {},
   "outputs": [
    {
     "name": "stdout",
     "output_type": "stream",
     "text": [
      "d는 자음입니다\n"
     ]
    }
   ],
   "source": [
    "alphabet = input(\"알파벳을 입력하시오\")\n",
    "if alphabet == \"a\" or alphabet == \"i\" or alphabet ==\"e\" or alphabet ==\"u\" or alphabet ==\"o\":\n",
    "  print(\"%s는 모음입니다.\"% alphabet)\n",
    "else:\n",
    "  print(\"%s는 자음입니다\"% alphabet )"
   ]
  },
  {
   "cell_type": "markdown",
   "metadata": {},
   "source": [
    "값만 `or`로 처리하는게 안됨\n"
   ]
  },
  {
   "cell_type": "code",
   "execution_count": 60,
   "metadata": {},
   "outputs": [
    {
     "name": "stdout",
     "output_type": "stream",
     "text": [
      "당신은 남성입니다.\n"
     ]
    }
   ],
   "source": [
    "id=(input(\"주민번호 뒷자리를 입력하시오\"))\n",
    "\n",
    "if int(id[0]) ==1 or 3 or 7:\n",
    "  sex= \"남성\"\n",
    "elif int(id[0])== 2 or 4:\n",
    "  sex= \"여성\"\n",
    "\n",
    "print(\"당신은 %s입니다.\"% sex)"
   ]
  },
  {
   "cell_type": "markdown",
   "metadata": {},
   "source": [
    "__아르바이트 급여를 계산하라__\n",
    "주간 근무는 9500원  \n",
    "야간 근무는 주간시금*1.5  \n",
    "둘 중 하나 선택  \n",
    "근무 시간 선택\n",
    "주간 급여 "
   ]
  },
  {
   "cell_type": "code",
   "execution_count": 64,
   "metadata": {},
   "outputs": [
    {
     "name": "stdout",
     "output_type": "stream",
     "text": [
      "당신의 급여는 498750.0 원입니다.\n"
     ]
    }
   ],
   "source": [
    "x=int(input(\"주간 근무를 원하면 1, 야간 근무를 원하시면 아무 숫자나 입력해 주세요\"))\n",
    "y=int(input(\"일할 시간을 입력해주세요\"))\n",
    "if x== 1:\n",
    "  z=9500*y*7\n",
    "  print(\"당신의 급여는\",9500*y*7,\"원입니다.\")\n",
    "else:\n",
    "  z=9500*y*7*1.5\n",
    "  print(\"당신의 급여는\",9500*y*7*1.5,\"원입니다.\")\n"
   ]
  },
  {
   "cell_type": "markdown",
   "metadata": {},
   "source": [
    "### 3.5 if문의 중첩\n",
    "__만나이 구하기__\n"
   ]
  },
  {
   "cell_type": "code",
   "execution_count": 65,
   "metadata": {},
   "outputs": [
    {
     "name": "stdout",
     "output_type": "stream",
     "text": [
      "--------------------------------------------------\n",
      "오늘 날짜 : 2022년 1월 11일\n",
      "생년 월일 : 2002년 7월 3일\n",
      "--------------------------------------------------\n",
      "만 나이 : 19세\n",
      "--------------------------------------------------\n"
     ]
    }
   ],
   "source": [
    "now_year  = int(input('현재년을 입력해 주세요 : ')) \n",
    "now_month = int(input('현재월을 입력해 주세요 : ')) \n",
    "now_day   = int(input('현재일을 입력해 주세요 : ')) \n",
    "\n",
    "birth_year  = int(input('출생년을 입력해 주세요 : ')) \n",
    "birth_month = int(input('출생월을 입력해 주세요 : ')) \n",
    "birth_day   = int(input('출생일을 입력해 주세요 : ')) \n",
    "\n",
    "if birth_month < now_month : \n",
    "    age = now_year - birth_year \n",
    "elif birth_month == now_month : \n",
    "    if birth_day < now_day : \n",
    "        age = now_year - birth_year \n",
    "    else : \n",
    "        age = now_year - birth_year - 1 \n",
    "else : \n",
    "    age = now_year - birth_year - 1 \n",
    "\n",
    "print('-' * 50) \n",
    "print('오늘 날짜 : %d년 %d월 %d일' % (now_year, now_month, now_day))\n",
    "print('생년 월일 : %d년 %d월 %d일' % (birth_year, birth_month, birth_day))\n",
    "print('-' * 50) \n",
    "print('만 나이 : %d세' % age) \n",
    "print('-' * 50)"
   ]
  },
  {
   "cell_type": "markdown",
   "metadata": {},
   "source": [
    "__서로 다른세 정수중 가장 큰 숫자를 찾아라__"
   ]
  },
  {
   "cell_type": "code",
   "execution_count": 72,
   "metadata": {},
   "outputs": [
    {
     "name": "stdout",
     "output_type": "stream",
     "text": [
      "y가 가장 큰 수 입니다.\n"
     ]
    }
   ],
   "source": [
    "x=int(input(\"첫번째 정수를 입력하시오\"))\n",
    "y=int(input(\"두번째 정수를 입력하시오\"))\n",
    "z=int(input(\"세번째 정수를 입력하시오\"))\n",
    "if x>y:\n",
    "  if y>z:\n",
    "    print(\"x가 가장 큰 수입니다\")\n",
    "  else:\n",
    "    if x>z:\n",
    "      print(\"x가 가장 큰 수입니다\")\n",
    "    elif z>x:\n",
    "      print(\"z가 가장 큰 수 입니다.\")\n",
    "else:\n",
    "  if z>y:\n",
    "    print(\"z가 가장 큰 수 입니다.\")\n",
    "  else:\n",
    "    print(\"y가 가장 큰 수 입니다.\")\n",
    "    "
   ]
  },
  {
   "cell_type": "markdown",
   "metadata": {},
   "source": [
    "__웹 사이트 콘텐츠 이용 가능 여부를 판단해라__\n",
    "입력받은 아이디가 'admin'이면 콘텐츠 이용 가능 메세지를 출력하고, 그렇지 않을 경우에는 회원레벨을 입력받아 회원레벨이 1~3이면 콘텐츠 이용 가능하고,그 외에는 콘텐츠 이용을 할 수 없음."
   ]
  },
  {
   "cell_type": "code",
   "execution_count": 76,
   "metadata": {},
   "outputs": [
    {
     "name": "stdout",
     "output_type": "stream",
     "text": [
      "콘텐츠 이용 불가\n"
     ]
    }
   ],
   "source": [
    "id= input(\"아이디를 입력하시오\")\n",
    "if id== \"admin\":\n",
    "  print(\"콘텐츠 이용 가능\")\n",
    "else:\n",
    "  level=int(input(\"회원레벨을 입력하시오\"))\n",
    "  if level== 1 or level== 2 or level== 3:\n",
    "    print(\"콘텐츠 이용 가능\")\n",
    "  else:\n",
    "    print(\"콘텐츠 이용 불가\")\n",
    "  "
   ]
  }
 ],
 "metadata": {
  "interpreter": {
   "hash": "cc5f70855ac006f3de45a3cc3b9e7d8d53845e50458809cb162b0174266dec97"
  },
  "kernelspec": {
   "display_name": "Python 3.9.7 64-bit ('base': conda)",
   "language": "python",
   "name": "python3"
  },
  "language_info": {
   "codemirror_mode": {
    "name": "ipython",
    "version": 3
   },
   "file_extension": ".py",
   "mimetype": "text/x-python",
   "name": "python",
   "nbconvert_exporter": "python",
   "pygments_lexer": "ipython3",
   "version": "3.10.1"
  },
  "orig_nbformat": 4
 },
 "nbformat": 4,
 "nbformat_minor": 2
}
