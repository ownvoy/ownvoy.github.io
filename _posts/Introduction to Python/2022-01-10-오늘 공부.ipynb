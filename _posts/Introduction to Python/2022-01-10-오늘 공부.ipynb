{
 "cells": [
  {
   "cell_type": "markdown",
   "metadata": {},
   "source": [
    "### 2.1.2 변수명\n",
    "변수명은 영어와 숫자의 조합이어야 한다.  \n",
    "특수문자 안되고 한글도 관례적으로 안돼ㅐㅐ"
   ]
  },
  {
   "cell_type": "markdown",
   "metadata": {},
   "source": [
    "### 2.3.4 문자열 길이 구하기\n",
    "\n",
    "`len()`은 문자열의 길이를 구하는데 사용된다."
   ]
  },
  {
   "cell_type": "code",
   "execution_count": 15,
   "metadata": {},
   "outputs": [
    {
     "name": "stdout",
     "output_type": "stream",
     "text": [
      "x 의 길이:6\n"
     ]
    }
   ],
   "source": [
    "x= \"길이 구하기\"\n",
    "n= len(x)\n",
    "print(\"x 의 길이:\"+str(n)) "
   ]
  },
  {
   "cell_type": "code",
   "execution_count": 16,
   "metadata": {},
   "outputs": [],
   "source": [
    "### 2.3.5 String formmating\n"
   ]
  },
  {
   "cell_type": "code",
   "execution_count": 17,
   "metadata": {},
   "outputs": [
    {
     "name": "stdout",
     "output_type": "stream",
     "text": [
      "내 나이는 19살입니다.\n"
     ]
    }
   ],
   "source": [
    "age =19\n",
    "x= \"내 나이는 %d살입니다.\"% age\n",
    "print(x)"
   ]
  },
  {
   "cell_type": "markdown",
   "metadata": {},
   "source": [
    "__국어 83점, 수학 69점, 영어 90점의 평균과 총점은?__"
   ]
  },
  {
   "cell_type": "code",
   "execution_count": 18,
   "metadata": {},
   "outputs": [
    {
     "name": "stdout",
     "output_type": "stream",
     "text": [
      "저의 총점은 242이며, 평균은 80.67입니다.\n"
     ]
    }
   ],
   "source": [
    "korean= 83\n",
    "mathematics= 69\n",
    "english= 90\n",
    "sum= korean + mathematics + english\n",
    "mean= sum/3\n",
    "print(\"저의 총점은 %d이며, 평균은 %0.2f입니다.\"%(sum,mean))"
   ]
  },
  {
   "cell_type": "markdown",
   "metadata": {},
   "source": [
    "__데이터를 입력받아 출력하기__\n",
    "\n",
    "`input()`가 이용된다.  "
   ]
  },
  {
   "cell_type": "code",
   "execution_count": 22,
   "metadata": {},
   "outputs": [
    {
     "name": "stdout",
     "output_type": "stream",
     "text": [
      "내 이름은 홍지수입니다\n"
     ]
    }
   ],
   "source": [
    "x= input(\"당신의 이름을 입력하세요: \")\n",
    "print(\"내 이름은 %s입니다\" % x)"
   ]
  },
  {
   "cell_type": "code",
   "execution_count": 25,
   "metadata": {},
   "outputs": [
    {
     "name": "stdout",
     "output_type": "stream",
     "text": [
      "우리의 나이의 평균은 30 입니다.\n"
     ]
    }
   ],
   "source": [
    "x= int(input(\"x의 나이는?\"))\n",
    "y= int(input(\"y의 나이는?\"))\n",
    "z= int(input(\"z의 나이는?\"))\n",
    "sum= (x+y+z)/3\n",
    "print(\"우리의 나이의 평균은 %d 입니다.\"% sum)"
   ]
  },
  {
   "cell_type": "markdown",
   "metadata": {},
   "source": [
    "### 2.5.2 키워드 sep으로 출력하기\n",
    "\n",
    "년/월/일의 형식으로 출력해보도록 하자.  "
   ]
  },
  {
   "cell_type": "code",
   "execution_count": 32,
   "metadata": {},
   "outputs": [
    {
     "name": "stdout",
     "output_type": "stream",
     "text": [
      "2020/1/10\n"
     ]
    }
   ],
   "source": [
    "print(2020,1,10,sep= \"/\")"
   ]
  },
  {
   "cell_type": "markdown",
   "metadata": {},
   "source": [
    "01로 만들고 싶으면 변수로 저장해야할듯 integer는 01이 안된대  "
   ]
  },
  {
   "cell_type": "markdown",
   "metadata": {},
   "source": [
    "default는 ,를 띄어쓰기 하나로 인식하는 것이다.\n",
    "띄어쓰기를 없애고 싶으면 `sep=\"\"`를 사용하면 된다.  "
   ]
  },
  {
   "cell_type": "code",
   "execution_count": 34,
   "metadata": {},
   "outputs": [
    {
     "name": "stdout",
     "output_type": "stream",
     "text": [
      "전화번호: 821046372837\n",
      "전화번호:821046372837\n"
     ]
    }
   ],
   "source": [
    "\n",
    "print(\"전화번호:\",821046372837)\n",
    "print(\"전화번호:\",821046372837,sep=\"\")"
   ]
  },
  {
   "cell_type": "markdown",
   "metadata": {},
   "source": [
    "### 2.5.4 Escape 출력하기\n",
    "\\로 시작하는 문자를 Escape 코드라 한다.  \n",
    "- `\\n`: 줄 바꾸기\n",
    "- `\\t`: 탭\n",
    "- `\\\\`: \\ 출력하기\n",
    "- `\\'`: ' 출력하기\n",
    "- `\\\"`: \" 출력하기"
   ]
  },
  {
   "cell_type": "code",
   "execution_count": 38,
   "metadata": {},
   "outputs": [
    {
     "name": "stdout",
     "output_type": "stream",
     "text": [
      "바다\n",
      "고기\n",
      "바다\t고기\n",
      "\\\n",
      "'\n",
      "\"\n"
     ]
    }
   ],
   "source": [
    "print(\"바다\\n고기\")\n",
    "print(\"바다\\t고기\")\n",
    "print(\"\\\\\")\n",
    "print(\"\\'\")\n",
    "print(\"\\\"\")"
   ]
  }
 ],
 "metadata": {
  "interpreter": {
   "hash": "e1867ef11b5f9f17f281a00a14b2388964eb4ad8c91585c89c898a79ceb73977"
  },
  "kernelspec": {
   "display_name": "Python 3.10.1 64-bit",
   "language": "python",
   "name": "python3"
  },
  "language_info": {
   "codemirror_mode": {
    "name": "ipython",
    "version": 3
   },
   "file_extension": ".py",
   "mimetype": "text/x-python",
   "name": "python",
   "nbconvert_exporter": "python",
   "pygments_lexer": "ipython3",
   "version": "3.10.1"
  },
  "orig_nbformat": 4
 },
 "nbformat": 4,
 "nbformat_minor": 2
}
